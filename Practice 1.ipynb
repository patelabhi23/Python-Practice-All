{
 "cells": [
  {
   "cell_type": "markdown",
   "id": "e5756539",
   "metadata": {},
   "source": [
    "Github Reference Link https://github.com/krishnaik06/Machine-Learning-in-90-days"
   ]
  },
  {
   "cell_type": "code",
   "execution_count": 1,
   "id": "e84bcbdb",
   "metadata": {},
   "outputs": [],
   "source": [
    "fname=\"Abhi\"\n",
    "lname=\"Patel\""
   ]
  },
  {
   "cell_type": "code",
   "execution_count": 2,
   "id": "84ee0876",
   "metadata": {},
   "outputs": [
    {
     "name": "stdout",
     "output_type": "stream",
     "text": [
      "My full name is Abhi : Patel\n"
     ]
    }
   ],
   "source": [
    "print(\"My full name is {} : {}\".format(fname,lname))"
   ]
  },
  {
   "cell_type": "code",
   "execution_count": 3,
   "id": "29b9ec1b",
   "metadata": {},
   "outputs": [
    {
     "name": "stdout",
     "output_type": "stream",
     "text": [
      "My full name is Patel : Abhi\n"
     ]
    }
   ],
   "source": [
    "print(\"My full name is {} : {}\".format(lname,fname))"
   ]
  },
  {
   "cell_type": "code",
   "execution_count": 4,
   "id": "983c3007",
   "metadata": {},
   "outputs": [
    {
     "name": "stdout",
     "output_type": "stream",
     "text": [
      "My full name is Patel : Abhi\n"
     ]
    }
   ],
   "source": [
    "print(\"My full name is {l} : {f}\".format(l=lname,f=fname))"
   ]
  },
  {
   "cell_type": "code",
   "execution_count": 5,
   "id": "913fea7c",
   "metadata": {},
   "outputs": [
    {
     "data": {
      "text/plain": [
       "5"
      ]
     },
     "execution_count": 5,
     "metadata": {},
     "output_type": "execute_result"
    }
   ],
   "source": [
    "len(\"AbhiP\")"
   ]
  },
  {
   "cell_type": "code",
   "execution_count": 6,
   "id": "809aaf76",
   "metadata": {},
   "outputs": [
    {
     "data": {
      "text/plain": [
       "list"
      ]
     },
     "execution_count": 6,
     "metadata": {},
     "output_type": "execute_result"
    }
   ],
   "source": [
    "type(['1','2','3'])"
   ]
  },
  {
   "cell_type": "markdown",
   "id": "716e32aa",
   "metadata": {},
   "source": [
    "Like VS Code (Ctrl + Space)we can use Tab in jupyter"
   ]
  },
  {
   "cell_type": "code",
   "execution_count": 7,
   "id": "ac25afaf",
   "metadata": {},
   "outputs": [],
   "source": [
    "custom_lst=['A','B',3,4,7]"
   ]
  },
  {
   "cell_type": "code",
   "execution_count": 10,
   "id": "d96b2b02",
   "metadata": {},
   "outputs": [],
   "source": [
    "custom_lst.append(\"Abhi\")"
   ]
  },
  {
   "cell_type": "code",
   "execution_count": 11,
   "id": "a0084d44",
   "metadata": {},
   "outputs": [
    {
     "data": {
      "text/plain": [
       "['A', 'B', 3, 4, 7, 'Abhi']"
      ]
     },
     "execution_count": 11,
     "metadata": {},
     "output_type": "execute_result"
    }
   ],
   "source": [
    "custom_lst"
   ]
  },
  {
   "cell_type": "code",
   "execution_count": 13,
   "id": "b605cec7",
   "metadata": {},
   "outputs": [
    {
     "data": {
      "text/plain": [
       "{9, 'D', 'F'}"
      ]
     },
     "execution_count": 13,
     "metadata": {},
     "output_type": "execute_result"
    }
   ],
   "source": [
    "set_var={\"D\",\"F\",9}\n",
    "set_var"
   ]
  },
  {
   "cell_type": "code",
   "execution_count": 1,
   "id": "cb743111",
   "metadata": {},
   "outputs": [],
   "source": [
    "my_dict={\"Car1\": \"Audi\", \"Car2\":\"BMW\",\"Car3\":\"Mercidies Benz\"}"
   ]
  },
  {
   "cell_type": "markdown",
   "id": "e31ba2e4",
   "metadata": {},
   "source": [
    "Lists\n",
    "\n",
    "A list is a data structure in Python that is a mutable, or changeable, ordered sequence of elements. Each element or value that is inside of a list is called an item. Just as strings are defined as characters between quotes, lists are defined by having values between square brackets [ ]\n",
    "\n",
    "SETS\n",
    "\n",
    "A Set is an unordered collection data type that is iterable, mutable, and has no duplicate elements. Python's set class represents the mathematical notion of a set.This is based on a data structure known as a hash table.\n",
    "\n",
    "Dictionaries\n",
    "\n",
    "A dictionary is a collection which is unordered, changeable and indexed. In Python dictionaries are written with curly brackets, and they have keys and values."
   ]
  },
  {
   "cell_type": "markdown",
   "id": "ee36d284",
   "metadata": {},
   "source": [
    "What is an array\n",
    "\n",
    "An array is a data structure that stores values of same data type. In Python, this is the main difference between arrays and lists. While python lists can contain values corresponding to different data types, arrays in python can only contain values corresponding to same data type"
   ]
  },
  {
   "cell_type": "code",
   "execution_count": 6,
   "id": "7d877c1c",
   "metadata": {},
   "outputs": [
    {
     "name": "stdout",
     "output_type": "stream",
     "text": [
      "[1 2 3 4 5]\n"
     ]
    }
   ],
   "source": [
    "import numpy as np\n",
    "\n",
    "my_lst=[1,2,3,4,5]\n",
    "\n",
    "arr=np.array(my_lst)\n",
    "\n",
    "print(arr)"
   ]
  },
  {
   "cell_type": "code",
   "execution_count": 7,
   "id": "915d3811",
   "metadata": {},
   "outputs": [
    {
     "data": {
      "text/plain": [
       "array([[1, 2, 3, 4, 5],\n",
       "       [2, 3, 4, 5, 6],\n",
       "       [9, 7, 6, 8, 9]])"
      ]
     },
     "execution_count": 7,
     "metadata": {},
     "output_type": "execute_result"
    }
   ],
   "source": [
    "my_lst1=[1,2,3,4,5]\n",
    "my_lst2=[2,3,4,5,6]\n",
    "my_lst3=[9,7,6,8,9]\n",
    "\n",
    "arr=np.array([my_lst1,my_lst2,my_lst3])\n",
    "\n",
    "arr"
   ]
  },
  {
   "cell_type": "code",
   "execution_count": 8,
   "id": "c6c15c03",
   "metadata": {},
   "outputs": [
    {
     "data": {
      "text/plain": [
       "(3, 5)"
      ]
     },
     "execution_count": 8,
     "metadata": {},
     "output_type": "execute_result"
    }
   ],
   "source": [
    "arr.shape"
   ]
  },
  {
   "cell_type": "code",
   "execution_count": 10,
   "id": "985ecba0",
   "metadata": {},
   "outputs": [
    {
     "data": {
      "text/plain": [
       "array([[1, 2, 3, 4, 5],\n",
       "       [2, 3, 4, 5, 6],\n",
       "       [9, 7, 6, 8, 9]])"
      ]
     },
     "execution_count": 10,
     "metadata": {},
     "output_type": "execute_result"
    }
   ],
   "source": [
    "arr"
   ]
  },
  {
   "cell_type": "code",
   "execution_count": 12,
   "id": "ecd08a22",
   "metadata": {},
   "outputs": [
    {
     "data": {
      "text/plain": [
       "array([1, 2, 2])"
      ]
     },
     "execution_count": 12,
     "metadata": {},
     "output_type": "execute_result"
    }
   ],
   "source": [
    "val=2\n",
    "\n",
    "arr[arr<3]"
   ]
  },
  {
   "cell_type": "code",
   "execution_count": 13,
   "id": "46639fd9",
   "metadata": {},
   "outputs": [
    {
     "data": {
      "text/plain": [
       "array([[0, 1],\n",
       "       [2, 3],\n",
       "       [4, 5],\n",
       "       [6, 7],\n",
       "       [8, 9]])"
      ]
     },
     "execution_count": 13,
     "metadata": {},
     "output_type": "execute_result"
    }
   ],
   "source": [
    "np.arange(0,10).reshape(5,2)"
   ]
  }
 ],
 "metadata": {
  "kernelspec": {
   "display_name": "Python 3",
   "language": "python",
   "name": "python3"
  },
  "language_info": {
   "codemirror_mode": {
    "name": "ipython",
    "version": 3
   },
   "file_extension": ".py",
   "mimetype": "text/x-python",
   "name": "python",
   "nbconvert_exporter": "python",
   "pygments_lexer": "ipython3",
   "version": "3.8.8"
  }
 },
 "nbformat": 4,
 "nbformat_minor": 5
}
