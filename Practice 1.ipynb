{
 "cells": [
  {
   "cell_type": "markdown",
   "id": "e5756539",
   "metadata": {},
   "source": [
    "Github Reference Link https://github.com/krishnaik06/Machine-Learning-in-90-days"
   ]
  },
  {
   "cell_type": "code",
   "execution_count": 1,
   "id": "e84bcbdb",
   "metadata": {},
   "outputs": [],
   "source": [
    "fname=\"Abhi\"\n",
    "lname=\"Patel\""
   ]
  },
  {
   "cell_type": "code",
   "execution_count": 2,
   "id": "84ee0876",
   "metadata": {},
   "outputs": [
    {
     "name": "stdout",
     "output_type": "stream",
     "text": [
      "My full name is Abhi : Patel\n"
     ]
    }
   ],
   "source": [
    "print(\"My full name is {} : {}\".format(fname,lname))"
   ]
  },
  {
   "cell_type": "code",
   "execution_count": 3,
   "id": "29b9ec1b",
   "metadata": {},
   "outputs": [
    {
     "name": "stdout",
     "output_type": "stream",
     "text": [
      "My full name is Patel : Abhi\n"
     ]
    }
   ],
   "source": [
    "print(\"My full name is {} : {}\".format(lname,fname))"
   ]
  },
  {
   "cell_type": "code",
   "execution_count": 4,
   "id": "983c3007",
   "metadata": {},
   "outputs": [
    {
     "name": "stdout",
     "output_type": "stream",
     "text": [
      "My full name is Patel : Abhi\n"
     ]
    }
   ],
   "source": [
    "print(\"My full name is {l} : {f}\".format(l=lname,f=fname))"
   ]
  },
  {
   "cell_type": "code",
   "execution_count": 5,
   "id": "913fea7c",
   "metadata": {},
   "outputs": [
    {
     "data": {
      "text/plain": [
       "5"
      ]
     },
     "execution_count": 5,
     "metadata": {},
     "output_type": "execute_result"
    }
   ],
   "source": [
    "len(\"AbhiP\")"
   ]
  },
  {
   "cell_type": "code",
   "execution_count": 6,
   "id": "809aaf76",
   "metadata": {},
   "outputs": [
    {
     "data": {
      "text/plain": [
       "list"
      ]
     },
     "execution_count": 6,
     "metadata": {},
     "output_type": "execute_result"
    }
   ],
   "source": [
    "type(['1','2','3'])"
   ]
  },
  {
   "cell_type": "markdown",
   "id": "716e32aa",
   "metadata": {},
   "source": [
    "Like VS Code (Ctrl + Space)we can use Tab in jupyter"
   ]
  },
  {
   "cell_type": "code",
   "execution_count": 7,
   "id": "ac25afaf",
   "metadata": {},
   "outputs": [],
   "source": [
    "custom_lst=['A','B',3,4,7]"
   ]
  },
  {
   "cell_type": "code",
   "execution_count": 10,
   "id": "d96b2b02",
   "metadata": {},
   "outputs": [],
   "source": [
    "custom_lst.append(\"Abhi\")"
   ]
  },
  {
   "cell_type": "code",
   "execution_count": 11,
   "id": "a0084d44",
   "metadata": {},
   "outputs": [
    {
     "data": {
      "text/plain": [
       "['A', 'B', 3, 4, 7, 'Abhi']"
      ]
     },
     "execution_count": 11,
     "metadata": {},
     "output_type": "execute_result"
    }
   ],
   "source": [
    "custom_lst"
   ]
  },
  {
   "cell_type": "code",
   "execution_count": 13,
   "id": "b605cec7",
   "metadata": {},
   "outputs": [
    {
     "data": {
      "text/plain": [
       "{9, 'D', 'F'}"
      ]
     },
     "execution_count": 13,
     "metadata": {},
     "output_type": "execute_result"
    }
   ],
   "source": [
    "set_var={\"D\",\"F\",9}\n",
    "set_var"
   ]
  },
  {
   "cell_type": "code",
   "execution_count": 1,
   "id": "cb743111",
   "metadata": {},
   "outputs": [],
   "source": [
    "my_dict={\"Car1\": \"Audi\", \"Car2\":\"BMW\",\"Car3\":\"Mercidies Benz\"}"
   ]
  },
  {
   "cell_type": "markdown",
   "id": "d2e6826b",
   "metadata": {},
   "source": [
    "Lists\n",
    "\n",
    "A list is a data structure in Python that is a mutable, or changeable, ordered sequence of elements. Each element or value that is inside of a list is called an item. Just as strings are defined as characters between quotes, lists are defined by having values between square brackets [ ]\n",
    "\n",
    "SETS\n",
    "\n",
    "A Set is an unordered collection data type that is iterable, mutable, and has no duplicate elements. Python's set class represents the mathematical notion of a set.This is based on a data structure known as a hash table.\n",
    "\n",
    "Dictionaries\n",
    "\n",
    "A dictionary is a collection which is unordered, changeable and indexed. In Python dictionaries are written with curly brackets, and they have keys and values."
   ]
  }
 ],
 "metadata": {
  "kernelspec": {
   "display_name": "Python 3",
   "language": "python",
   "name": "python3"
  },
  "language_info": {
   "codemirror_mode": {
    "name": "ipython",
    "version": 3
   },
   "file_extension": ".py",
   "mimetype": "text/x-python",
   "name": "python",
   "nbconvert_exporter": "python",
   "pygments_lexer": "ipython3",
   "version": "3.8.8"
  }
 },
 "nbformat": 4,
 "nbformat_minor": 5
}
