{
 "cells": [
  {
   "cell_type": "markdown",
   "id": "1c787695",
   "metadata": {},
   "source": [
    "Github Reference Link https://github.com/krishnaik06/Machine-Learning-in-90-days"
   ]
  },
  {
   "cell_type": "code",
   "execution_count": 1,
   "id": "9e3efb2a",
   "metadata": {},
   "outputs": [],
   "source": [
    "fname=\"Abhi\"\n",
    "lname=\"Patel\""
   ]
  },
  {
   "cell_type": "code",
   "execution_count": 2,
   "id": "01195b0b",
   "metadata": {},
   "outputs": [
    {
     "name": "stdout",
     "output_type": "stream",
     "text": [
      "My full name is Abhi : Patel\n"
     ]
    }
   ],
   "source": [
    "print(\"My full name is {} : {}\".format(fname,lname))"
   ]
  },
  {
   "cell_type": "code",
   "execution_count": 3,
   "id": "4ac290d1",
   "metadata": {},
   "outputs": [
    {
     "name": "stdout",
     "output_type": "stream",
     "text": [
      "My full name is Patel : Abhi\n"
     ]
    }
   ],
   "source": [
    "print(\"My full name is {} : {}\".format(lname,fname))"
   ]
  },
  {
   "cell_type": "code",
   "execution_count": 4,
   "id": "0299040a",
   "metadata": {},
   "outputs": [
    {
     "name": "stdout",
     "output_type": "stream",
     "text": [
      "My full name is Patel : Abhi\n"
     ]
    }
   ],
   "source": [
    "print(\"My full name is {l} : {f}\".format(l=lname,f=fname))"
   ]
  },
  {
   "cell_type": "code",
   "execution_count": 5,
   "id": "a992eea6",
   "metadata": {},
   "outputs": [
    {
     "data": {
      "text/plain": [
       "5"
      ]
     },
     "execution_count": 5,
     "metadata": {},
     "output_type": "execute_result"
    }
   ],
   "source": [
    "len(\"AbhiP\")"
   ]
  },
  {
   "cell_type": "code",
   "execution_count": 6,
   "id": "8cf3f662",
   "metadata": {},
   "outputs": [
    {
     "data": {
      "text/plain": [
       "list"
      ]
     },
     "execution_count": 6,
     "metadata": {},
     "output_type": "execute_result"
    }
   ],
   "source": [
    "type(['1','2','3'])"
   ]
  },
  {
   "cell_type": "markdown",
   "id": "3cfd5b35",
   "metadata": {},
   "source": [
    "Like VS Code (Ctrl + Space)we can use Tab in jupyter"
   ]
  },
  {
   "cell_type": "code",
   "execution_count": 7,
   "id": "73ad7b04",
   "metadata": {},
   "outputs": [],
   "source": [
    "custom_lst=['A','B',3,4,7]"
   ]
  },
  {
   "cell_type": "code",
   "execution_count": 10,
   "id": "0224876b",
   "metadata": {},
   "outputs": [],
   "source": [
    "custom_lst.append(\"Abhi\")"
   ]
  },
  {
   "cell_type": "code",
   "execution_count": 11,
   "id": "b2461426",
   "metadata": {},
   "outputs": [
    {
     "data": {
      "text/plain": [
       "['A', 'B', 3, 4, 7, 'Abhi']"
      ]
     },
     "execution_count": 11,
     "metadata": {},
     "output_type": "execute_result"
    }
   ],
   "source": [
    "custom_lst"
   ]
  },
  {
   "cell_type": "code",
   "execution_count": 13,
   "id": "aaaddbdc",
   "metadata": {},
   "outputs": [
    {
     "data": {
      "text/plain": [
       "{9, 'D', 'F'}"
      ]
     },
     "execution_count": 13,
     "metadata": {},
     "output_type": "execute_result"
    }
   ],
   "source": [
    "set_var={\"D\",\"F\",9}\n",
    "set_var"
   ]
  }
 ],
 "metadata": {
  "kernelspec": {
   "display_name": "Python 3",
   "language": "python",
   "name": "python3"
  },
  "language_info": {
   "codemirror_mode": {
    "name": "ipython",
    "version": 3
   },
   "file_extension": ".py",
   "mimetype": "text/x-python",
   "name": "python",
   "nbconvert_exporter": "python",
   "pygments_lexer": "ipython3",
   "version": "3.8.8"
  }
 },
 "nbformat": 4,
 "nbformat_minor": 5
}
